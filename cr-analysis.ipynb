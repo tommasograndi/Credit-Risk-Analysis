{
 "cells": [
  {
   "cell_type": "markdown",
   "id": "209589ce",
   "metadata": {
    "papermill": {
     "duration": 0.004033,
     "end_time": "2023-10-20T11:04:18.071510",
     "exception": false,
     "start_time": "2023-10-20T11:04:18.067477",
     "status": "completed"
    },
    "tags": []
   },
   "source": [
    "# Credit Risk Analysis "
   ]
  },
  {
   "cell_type": "code",
   "execution_count": 1,
   "id": "00a6e033",
   "metadata": {
    "execution": {
     "iopub.execute_input": "2023-10-20T11:04:18.083442Z",
     "iopub.status.busy": "2023-10-20T11:04:18.082394Z",
     "iopub.status.idle": "2023-10-20T11:04:18.485500Z",
     "shell.execute_reply": "2023-10-20T11:04:18.484193Z"
    },
    "papermill": {
     "duration": 0.411492,
     "end_time": "2023-10-20T11:04:18.488428",
     "exception": false,
     "start_time": "2023-10-20T11:04:18.076936",
     "status": "completed"
    },
    "tags": []
   },
   "outputs": [],
   "source": [
    "import pandas as pd \n",
    "import numpy as np\n",
    "import os\n",
    "import matplotlib.pyplot as plt"
   ]
  },
  {
   "cell_type": "markdown",
   "id": "47ee5697",
   "metadata": {
    "papermill": {
     "duration": 0.003696,
     "end_time": "2023-10-20T11:04:18.496326",
     "exception": false,
     "start_time": "2023-10-20T11:04:18.492630",
     "status": "completed"
    },
    "tags": []
   },
   "source": [
    "Data source: https://www.kaggle.com/datasets/laotse/credit-risk-dataset/\n",
    "\n",
    "A brief description of the data:\n",
    "\n",
    "- `person_age` $\\rightarrow$  Age\n",
    "- `person_income` $\\rightarrow$ Annual Income\n",
    "- `person_home_ownership` $\\rightarrow$ Home ownership\n",
    "- `person_emp_length` $\\rightarrow$ Employment length (in years)\n",
    "- `loan_intent` $\\rightarrow$ Loan intent\n",
    "- `loan_grade` $\\rightarrow$ Loan grade\n",
    "- `loan_amnt` $\\rightarrow$ Loan amount\n",
    "- `loan_int_rate` $\\rightarrow$ Interest rate\n",
    "- `loan_status` $\\rightarrow$ Loan status (0 is non default 1 is default)\n",
    "- `loan_percent_income` $\\rightarrow$ Percent income\n",
    "- `cb_person_default_on_file` $\\rightarrow$ Historical default\n",
    "- `cb_preson_cred_hist_length` $\\rightarrow$ Credit history length"
   ]
  },
  {
   "cell_type": "code",
   "execution_count": 2,
   "id": "afc056fe",
   "metadata": {
    "execution": {
     "iopub.execute_input": "2023-10-20T11:04:18.506365Z",
     "iopub.status.busy": "2023-10-20T11:04:18.505821Z",
     "iopub.status.idle": "2023-10-20T11:04:18.631203Z",
     "shell.execute_reply": "2023-10-20T11:04:18.629865Z"
    },
    "papermill": {
     "duration": 0.133442,
     "end_time": "2023-10-20T11:04:18.633950",
     "exception": false,
     "start_time": "2023-10-20T11:04:18.500508",
     "status": "completed"
    },
    "tags": []
   },
   "outputs": [
    {
     "data": {
      "text/html": [
       "<div>\n",
       "<style scoped>\n",
       "    .dataframe tbody tr th:only-of-type {\n",
       "        vertical-align: middle;\n",
       "    }\n",
       "\n",
       "    .dataframe tbody tr th {\n",
       "        vertical-align: top;\n",
       "    }\n",
       "\n",
       "    .dataframe thead th {\n",
       "        text-align: right;\n",
       "    }\n",
       "</style>\n",
       "<table border=\"1\" class=\"dataframe\">\n",
       "  <thead>\n",
       "    <tr style=\"text-align: right;\">\n",
       "      <th></th>\n",
       "      <th>person_age</th>\n",
       "      <th>person_income</th>\n",
       "      <th>person_home_ownership</th>\n",
       "      <th>person_emp_length</th>\n",
       "      <th>loan_intent</th>\n",
       "      <th>loan_grade</th>\n",
       "      <th>loan_amnt</th>\n",
       "      <th>loan_int_rate</th>\n",
       "      <th>loan_status</th>\n",
       "      <th>loan_percent_income</th>\n",
       "      <th>cb_person_default_on_file</th>\n",
       "      <th>cb_person_cred_hist_length</th>\n",
       "    </tr>\n",
       "  </thead>\n",
       "  <tbody>\n",
       "    <tr>\n",
       "      <th>0</th>\n",
       "      <td>22</td>\n",
       "      <td>59000</td>\n",
       "      <td>RENT</td>\n",
       "      <td>123.0</td>\n",
       "      <td>PERSONAL</td>\n",
       "      <td>D</td>\n",
       "      <td>35000</td>\n",
       "      <td>16.02</td>\n",
       "      <td>1</td>\n",
       "      <td>0.59</td>\n",
       "      <td>Y</td>\n",
       "      <td>3</td>\n",
       "    </tr>\n",
       "    <tr>\n",
       "      <th>1</th>\n",
       "      <td>21</td>\n",
       "      <td>9600</td>\n",
       "      <td>OWN</td>\n",
       "      <td>5.0</td>\n",
       "      <td>EDUCATION</td>\n",
       "      <td>B</td>\n",
       "      <td>1000</td>\n",
       "      <td>11.14</td>\n",
       "      <td>0</td>\n",
       "      <td>0.10</td>\n",
       "      <td>N</td>\n",
       "      <td>2</td>\n",
       "    </tr>\n",
       "    <tr>\n",
       "      <th>2</th>\n",
       "      <td>25</td>\n",
       "      <td>9600</td>\n",
       "      <td>MORTGAGE</td>\n",
       "      <td>1.0</td>\n",
       "      <td>MEDICAL</td>\n",
       "      <td>C</td>\n",
       "      <td>5500</td>\n",
       "      <td>12.87</td>\n",
       "      <td>1</td>\n",
       "      <td>0.57</td>\n",
       "      <td>N</td>\n",
       "      <td>3</td>\n",
       "    </tr>\n",
       "    <tr>\n",
       "      <th>3</th>\n",
       "      <td>23</td>\n",
       "      <td>65500</td>\n",
       "      <td>RENT</td>\n",
       "      <td>4.0</td>\n",
       "      <td>MEDICAL</td>\n",
       "      <td>C</td>\n",
       "      <td>35000</td>\n",
       "      <td>15.23</td>\n",
       "      <td>1</td>\n",
       "      <td>0.53</td>\n",
       "      <td>N</td>\n",
       "      <td>2</td>\n",
       "    </tr>\n",
       "    <tr>\n",
       "      <th>4</th>\n",
       "      <td>24</td>\n",
       "      <td>54400</td>\n",
       "      <td>RENT</td>\n",
       "      <td>8.0</td>\n",
       "      <td>MEDICAL</td>\n",
       "      <td>C</td>\n",
       "      <td>35000</td>\n",
       "      <td>14.27</td>\n",
       "      <td>1</td>\n",
       "      <td>0.55</td>\n",
       "      <td>Y</td>\n",
       "      <td>4</td>\n",
       "    </tr>\n",
       "  </tbody>\n",
       "</table>\n",
       "</div>"
      ],
      "text/plain": [
       "   person_age  person_income person_home_ownership  person_emp_length  \\\n",
       "0          22          59000                  RENT              123.0   \n",
       "1          21           9600                   OWN                5.0   \n",
       "2          25           9600              MORTGAGE                1.0   \n",
       "3          23          65500                  RENT                4.0   \n",
       "4          24          54400                  RENT                8.0   \n",
       "\n",
       "  loan_intent loan_grade  loan_amnt  loan_int_rate  loan_status  \\\n",
       "0    PERSONAL          D      35000          16.02            1   \n",
       "1   EDUCATION          B       1000          11.14            0   \n",
       "2     MEDICAL          C       5500          12.87            1   \n",
       "3     MEDICAL          C      35000          15.23            1   \n",
       "4     MEDICAL          C      35000          14.27            1   \n",
       "\n",
       "   loan_percent_income cb_person_default_on_file  cb_person_cred_hist_length  \n",
       "0                 0.59                         Y                           3  \n",
       "1                 0.10                         N                           2  \n",
       "2                 0.57                         N                           3  \n",
       "3                 0.53                         N                           2  \n",
       "4                 0.55                         Y                           4  "
      ]
     },
     "execution_count": 2,
     "metadata": {},
     "output_type": "execute_result"
    }
   ],
   "source": [
    "cr_loan = pd.read_csv('/kaggle/input/credit-risk-dataset/credit_risk_dataset.csv')\n",
    "cr_loan.head()"
   ]
  },
  {
   "cell_type": "markdown",
   "id": "1bc37ca1",
   "metadata": {
    "execution": {
     "iopub.execute_input": "2023-10-20T09:52:15.524281Z",
     "iopub.status.busy": "2023-10-20T09:52:15.523883Z",
     "iopub.status.idle": "2023-10-20T09:52:15.531664Z",
     "shell.execute_reply": "2023-10-20T09:52:15.530761Z",
     "shell.execute_reply.started": "2023-10-20T09:52:15.524250Z"
    },
    "papermill": {
     "duration": 0.00397,
     "end_time": "2023-10-20T11:04:18.642309",
     "exception": false,
     "start_time": "2023-10-20T11:04:18.638339",
     "status": "completed"
    },
    "tags": []
   },
   "source": [
    "## EDA"
   ]
  },
  {
   "cell_type": "code",
   "execution_count": 3,
   "id": "ba8c13cf",
   "metadata": {
    "execution": {
     "iopub.execute_input": "2023-10-20T11:04:18.653278Z",
     "iopub.status.busy": "2023-10-20T11:04:18.652628Z",
     "iopub.status.idle": "2023-10-20T11:04:18.958316Z",
     "shell.execute_reply": "2023-10-20T11:04:18.957187Z"
    },
    "papermill": {
     "duration": 0.314203,
     "end_time": "2023-10-20T11:04:18.960845",
     "exception": false,
     "start_time": "2023-10-20T11:04:18.646642",
     "status": "completed"
    },
    "tags": []
   },
   "outputs": [
    {
     "data": {
      "image/png": "[encoded data removed]",
      "text/plain": [
       "<Figure size 640x480 with 1 Axes>"
      ]
     },
     "metadata": {},
     "output_type": "display_data"
    }
   ],
   "source": [
    "# Look at the distribution of loan amounts with a histogram\n",
    "plt.hist(x=cr_loan['loan_amnt'], bins='auto', color='blue',alpha=0.7, rwidth=0.85)\n",
    "plt.xlabel(\"Loan Amount\")\n",
    "plt.show()"
   ]
  },
  {
   "cell_type": "code",
   "execution_count": 4,
   "id": "cf9d0bbb",
   "metadata": {
    "execution": {
     "iopub.execute_input": "2023-10-20T11:04:18.972576Z",
     "iopub.status.busy": "2023-10-20T11:04:18.971859Z",
     "iopub.status.idle": "2023-10-20T11:04:19.042399Z",
     "shell.execute_reply": "2023-10-20T11:04:19.041305Z"
    },
    "papermill": {
     "duration": 0.079281,
     "end_time": "2023-10-20T11:04:19.044867",
     "exception": false,
     "start_time": "2023-10-20T11:04:18.965586",
     "status": "completed"
    },
    "tags": []
   },
   "outputs": [
    {
     "data": {
      "text/html": [
       "<div>\n",
       "<style scoped>\n",
       "    .dataframe tbody tr th:only-of-type {\n",
       "        vertical-align: middle;\n",
       "    }\n",
       "\n",
       "    .dataframe tbody tr th {\n",
       "        vertical-align: top;\n",
       "    }\n",
       "\n",
       "    .dataframe thead th {\n",
       "        text-align: right;\n",
       "    }\n",
       "</style>\n",
       "<table border=\"1\" class=\"dataframe\">\n",
       "  <thead>\n",
       "    <tr style=\"text-align: right;\">\n",
       "      <th>loan_status</th>\n",
       "      <th>0</th>\n",
       "      <th>1</th>\n",
       "      <th>All</th>\n",
       "    </tr>\n",
       "    <tr>\n",
       "      <th>loan_intent</th>\n",
       "      <th></th>\n",
       "      <th></th>\n",
       "      <th></th>\n",
       "    </tr>\n",
       "  </thead>\n",
       "  <tbody>\n",
       "    <tr>\n",
       "      <th>DEBTCONSOLIDATION</th>\n",
       "      <td>3722</td>\n",
       "      <td>1490</td>\n",
       "      <td>5212</td>\n",
       "    </tr>\n",
       "    <tr>\n",
       "      <th>EDUCATION</th>\n",
       "      <td>5342</td>\n",
       "      <td>1111</td>\n",
       "      <td>6453</td>\n",
       "    </tr>\n",
       "    <tr>\n",
       "      <th>HOMEIMPROVEMENT</th>\n",
       "      <td>2664</td>\n",
       "      <td>941</td>\n",
       "      <td>3605</td>\n",
       "    </tr>\n",
       "    <tr>\n",
       "      <th>MEDICAL</th>\n",
       "      <td>4450</td>\n",
       "      <td>1621</td>\n",
       "      <td>6071</td>\n",
       "    </tr>\n",
       "    <tr>\n",
       "      <th>PERSONAL</th>\n",
       "      <td>4423</td>\n",
       "      <td>1098</td>\n",
       "      <td>5521</td>\n",
       "    </tr>\n",
       "    <tr>\n",
       "      <th>VENTURE</th>\n",
       "      <td>4872</td>\n",
       "      <td>847</td>\n",
       "      <td>5719</td>\n",
       "    </tr>\n",
       "    <tr>\n",
       "      <th>All</th>\n",
       "      <td>25473</td>\n",
       "      <td>7108</td>\n",
       "      <td>32581</td>\n",
       "    </tr>\n",
       "  </tbody>\n",
       "</table>\n",
       "</div>"
      ],
      "text/plain": [
       "loan_status            0     1    All\n",
       "loan_intent                          \n",
       "DEBTCONSOLIDATION   3722  1490   5212\n",
       "EDUCATION           5342  1111   6453\n",
       "HOMEIMPROVEMENT     2664   941   3605\n",
       "MEDICAL             4450  1621   6071\n",
       "PERSONAL            4423  1098   5521\n",
       "VENTURE             4872   847   5719\n",
       "All                25473  7108  32581"
      ]
     },
     "execution_count": 4,
     "metadata": {},
     "output_type": "execute_result"
    }
   ],
   "source": [
    "# Create a cross table of the loan intent and loan status\n",
    "pd.crosstab(cr_loan['loan_intent'], cr_loan['loan_status'], margins = True)"
   ]
  },
  {
   "cell_type": "code",
   "execution_count": 5,
   "id": "0c312d2c",
   "metadata": {
    "execution": {
     "iopub.execute_input": "2023-10-20T11:04:19.056606Z",
     "iopub.status.busy": "2023-10-20T11:04:19.056191Z",
     "iopub.status.idle": "2023-10-20T11:04:19.091586Z",
     "shell.execute_reply": "2023-10-20T11:04:19.090123Z"
    },
    "papermill": {
     "duration": 0.044666,
     "end_time": "2023-10-20T11:04:19.094288",
     "exception": false,
     "start_time": "2023-10-20T11:04:19.049622",
     "status": "completed"
    },
    "tags": []
   },
   "outputs": [
    {
     "data": {
      "text/html": [
       "<div>\n",
       "<style scoped>\n",
       "    .dataframe tbody tr th:only-of-type {\n",
       "        vertical-align: middle;\n",
       "    }\n",
       "\n",
       "    .dataframe tbody tr th {\n",
       "        vertical-align: top;\n",
       "    }\n",
       "\n",
       "    .dataframe thead tr th {\n",
       "        text-align: left;\n",
       "    }\n",
       "\n",
       "    .dataframe thead tr:last-of-type th {\n",
       "        text-align: right;\n",
       "    }\n",
       "</style>\n",
       "<table border=\"1\" class=\"dataframe\">\n",
       "  <thead>\n",
       "    <tr>\n",
       "      <th>loan_status</th>\n",
       "      <th colspan=\"7\" halign=\"left\">0</th>\n",
       "      <th colspan=\"7\" halign=\"left\">1</th>\n",
       "    </tr>\n",
       "    <tr>\n",
       "      <th>loan_grade</th>\n",
       "      <th>A</th>\n",
       "      <th>B</th>\n",
       "      <th>C</th>\n",
       "      <th>D</th>\n",
       "      <th>E</th>\n",
       "      <th>F</th>\n",
       "      <th>G</th>\n",
       "      <th>A</th>\n",
       "      <th>B</th>\n",
       "      <th>C</th>\n",
       "      <th>D</th>\n",
       "      <th>E</th>\n",
       "      <th>F</th>\n",
       "      <th>G</th>\n",
       "    </tr>\n",
       "    <tr>\n",
       "      <th>person_home_ownership</th>\n",
       "      <th></th>\n",
       "      <th></th>\n",
       "      <th></th>\n",
       "      <th></th>\n",
       "      <th></th>\n",
       "      <th></th>\n",
       "      <th></th>\n",
       "      <th></th>\n",
       "      <th></th>\n",
       "      <th></th>\n",
       "      <th></th>\n",
       "      <th></th>\n",
       "      <th></th>\n",
       "      <th></th>\n",
       "    </tr>\n",
       "  </thead>\n",
       "  <tbody>\n",
       "    <tr>\n",
       "      <th>MORTGAGE</th>\n",
       "      <td>5219</td>\n",
       "      <td>3729</td>\n",
       "      <td>1934</td>\n",
       "      <td>658</td>\n",
       "      <td>178</td>\n",
       "      <td>36</td>\n",
       "      <td>0</td>\n",
       "      <td>239</td>\n",
       "      <td>324</td>\n",
       "      <td>321</td>\n",
       "      <td>553</td>\n",
       "      <td>161</td>\n",
       "      <td>61</td>\n",
       "      <td>31</td>\n",
       "    </tr>\n",
       "    <tr>\n",
       "      <th>OTHER</th>\n",
       "      <td>23</td>\n",
       "      <td>29</td>\n",
       "      <td>11</td>\n",
       "      <td>9</td>\n",
       "      <td>2</td>\n",
       "      <td>0</td>\n",
       "      <td>0</td>\n",
       "      <td>3</td>\n",
       "      <td>5</td>\n",
       "      <td>6</td>\n",
       "      <td>11</td>\n",
       "      <td>6</td>\n",
       "      <td>2</td>\n",
       "      <td>0</td>\n",
       "    </tr>\n",
       "    <tr>\n",
       "      <th>OWN</th>\n",
       "      <td>860</td>\n",
       "      <td>770</td>\n",
       "      <td>464</td>\n",
       "      <td>264</td>\n",
       "      <td>26</td>\n",
       "      <td>7</td>\n",
       "      <td>0</td>\n",
       "      <td>66</td>\n",
       "      <td>34</td>\n",
       "      <td>31</td>\n",
       "      <td>18</td>\n",
       "      <td>31</td>\n",
       "      <td>8</td>\n",
       "      <td>5</td>\n",
       "    </tr>\n",
       "    <tr>\n",
       "      <th>RENT</th>\n",
       "      <td>3602</td>\n",
       "      <td>4222</td>\n",
       "      <td>2710</td>\n",
       "      <td>554</td>\n",
       "      <td>137</td>\n",
       "      <td>28</td>\n",
       "      <td>1</td>\n",
       "      <td>765</td>\n",
       "      <td>1338</td>\n",
       "      <td>981</td>\n",
       "      <td>1559</td>\n",
       "      <td>423</td>\n",
       "      <td>99</td>\n",
       "      <td>27</td>\n",
       "    </tr>\n",
       "  </tbody>\n",
       "</table>\n",
       "</div>"
      ],
      "text/plain": [
       "loan_status               0                                 1             \\\n",
       "loan_grade                A     B     C    D    E   F  G    A     B    C   \n",
       "person_home_ownership                                                      \n",
       "MORTGAGE               5219  3729  1934  658  178  36  0  239   324  321   \n",
       "OTHER                    23    29    11    9    2   0  0    3     5    6   \n",
       "OWN                     860   770   464  264   26   7  0   66    34   31   \n",
       "RENT                   3602  4222  2710  554  137  28  1  765  1338  981   \n",
       "\n",
       "loan_status                               \n",
       "loan_grade                D    E   F   G  \n",
       "person_home_ownership                     \n",
       "MORTGAGE                553  161  61  31  \n",
       "OTHER                    11    6   2   0  \n",
       "OWN                      18   31   8   5  \n",
       "RENT                   1559  423  99  27  "
      ]
     },
     "execution_count": 5,
     "metadata": {},
     "output_type": "execute_result"
    }
   ],
   "source": [
    "# Create a cross table of home ownership, loan status, and grade\n",
    "pd.crosstab(cr_loan['person_home_ownership'],[cr_loan['loan_status'],cr_loan['loan_grade']])"
   ]
  },
  {
   "cell_type": "code",
   "execution_count": 6,
   "id": "c0d158e6",
   "metadata": {
    "execution": {
     "iopub.execute_input": "2023-10-20T11:04:19.105790Z",
     "iopub.status.busy": "2023-10-20T11:04:19.105397Z",
     "iopub.status.idle": "2023-10-20T11:04:19.119534Z",
     "shell.execute_reply": "2023-10-20T11:04:19.118292Z"
    },
    "papermill": {
     "duration": 0.022782,
     "end_time": "2023-10-20T11:04:19.121995",
     "exception": false,
     "start_time": "2023-10-20T11:04:19.099213",
     "status": "completed"
    },
    "tags": []
   },
   "outputs": [
    {
     "data": {
      "text/plain": [
       "person_home_ownership\n",
       "RENT        16446\n",
       "MORTGAGE    13444\n",
       "OWN          2584\n",
       "OTHER         107\n",
       "Name: count, dtype: int64"
      ]
     },
     "execution_count": 6,
     "metadata": {},
     "output_type": "execute_result"
    }
   ],
   "source": [
    "cr_loan['person_home_ownership'].value_counts() "
   ]
  },
  {
   "cell_type": "code",
   "execution_count": 7,
   "id": "63c3972b",
   "metadata": {
    "execution": {
     "iopub.execute_input": "2023-10-20T11:04:19.134196Z",
     "iopub.status.busy": "2023-10-20T11:04:19.133853Z",
     "iopub.status.idle": "2023-10-20T11:04:19.162359Z",
     "shell.execute_reply": "2023-10-20T11:04:19.161272Z"
    },
    "papermill": {
     "duration": 0.03771,
     "end_time": "2023-10-20T11:04:19.165062",
     "exception": false,
     "start_time": "2023-10-20T11:04:19.127352",
     "status": "completed"
    },
    "tags": []
   },
   "outputs": [
    {
     "data": {
      "text/html": [
       "<div>\n",
       "<style scoped>\n",
       "    .dataframe tbody tr th:only-of-type {\n",
       "        vertical-align: middle;\n",
       "    }\n",
       "\n",
       "    .dataframe tbody tr th {\n",
       "        vertical-align: top;\n",
       "    }\n",
       "\n",
       "    .dataframe thead th {\n",
       "        text-align: right;\n",
       "    }\n",
       "</style>\n",
       "<table border=\"1\" class=\"dataframe\">\n",
       "  <thead>\n",
       "    <tr style=\"text-align: right;\">\n",
       "      <th>loan_status</th>\n",
       "      <th>0</th>\n",
       "      <th>1</th>\n",
       "    </tr>\n",
       "    <tr>\n",
       "      <th>person_home_ownership</th>\n",
       "      <th></th>\n",
       "      <th></th>\n",
       "    </tr>\n",
       "  </thead>\n",
       "  <tbody>\n",
       "    <tr>\n",
       "      <th>MORTGAGE</th>\n",
       "      <td>0.146504</td>\n",
       "      <td>0.184882</td>\n",
       "    </tr>\n",
       "    <tr>\n",
       "      <th>OTHER</th>\n",
       "      <td>0.143784</td>\n",
       "      <td>0.300000</td>\n",
       "    </tr>\n",
       "    <tr>\n",
       "      <th>OWN</th>\n",
       "      <td>0.180013</td>\n",
       "      <td>0.297358</td>\n",
       "    </tr>\n",
       "    <tr>\n",
       "      <th>RENT</th>\n",
       "      <td>0.144611</td>\n",
       "      <td>0.264859</td>\n",
       "    </tr>\n",
       "  </tbody>\n",
       "</table>\n",
       "</div>"
      ],
      "text/plain": [
       "loan_status                   0         1\n",
       "person_home_ownership                    \n",
       "MORTGAGE               0.146504  0.184882\n",
       "OTHER                  0.143784  0.300000\n",
       "OWN                    0.180013  0.297358\n",
       "RENT                   0.144611  0.264859"
      ]
     },
     "execution_count": 7,
     "metadata": {},
     "output_type": "execute_result"
    }
   ],
   "source": [
    "# Create a cross table of home ownership, loan status, and average percent income\n",
    "pd.crosstab(cr_loan['person_home_ownership'], cr_loan['loan_status'],\n",
    "              values=cr_loan['loan_percent_income'], aggfunc='mean')"
   ]
  },
  {
   "cell_type": "code",
   "execution_count": 8,
   "id": "4e979c39",
   "metadata": {
    "execution": {
     "iopub.execute_input": "2023-10-20T11:04:19.177247Z",
     "iopub.status.busy": "2023-10-20T11:04:19.176826Z",
     "iopub.status.idle": "2023-10-20T11:04:19.384952Z",
     "shell.execute_reply": "2023-10-20T11:04:19.383875Z"
    },
    "papermill": {
     "duration": 0.217538,
     "end_time": "2023-10-20T11:04:19.387780",
     "exception": false,
     "start_time": "2023-10-20T11:04:19.170242",
     "status": "completed"
    },
    "tags": []
   },
   "outputs": [
    {
     "data": {
      "image/png": "[encoded data removed]",
      "text/plain": [
       "<Figure size 640x480 with 1 Axes>"
      ]
     },
     "metadata": {},
     "output_type": "display_data"
    }
   ],
   "source": [
    "# Create a box plot of percentage income by loan status\n",
    "cr_loan.boxplot(column = ['loan_percent_income'], by = 'loan_status')\n",
    "plt.title('Average Percent Income by Loan Status')\n",
    "plt.show()"
   ]
  },
  {
   "cell_type": "markdown",
   "id": "4e73b7ac",
   "metadata": {
    "papermill": {
     "duration": 0.005299,
     "end_time": "2023-10-20T11:04:19.398840",
     "exception": false,
     "start_time": "2023-10-20T11:04:19.393541",
     "status": "completed"
    },
    "tags": []
   },
   "source": [
    "It looks like the average percentage of income for defaults is higher. This could indicate those recipients have a debt-to-income ratio that's already too high."
   ]
  },
  {
   "cell_type": "code",
   "execution_count": 9,
   "id": "f3d2b948",
   "metadata": {
    "execution": {
     "iopub.execute_input": "2023-10-20T11:04:19.413439Z",
     "iopub.status.busy": "2023-10-20T11:04:19.412131Z",
     "iopub.status.idle": "2023-10-20T11:04:19.471280Z",
     "shell.execute_reply": "2023-10-20T11:04:19.470265Z"
    },
    "papermill": {
     "duration": 0.069364,
     "end_time": "2023-10-20T11:04:19.473716",
     "exception": false,
     "start_time": "2023-10-20T11:04:19.404352",
     "status": "completed"
    },
    "tags": []
   },
   "outputs": [
    {
     "data": {
      "text/html": [
       "<div>\n",
       "<style scoped>\n",
       "    .dataframe tbody tr th:only-of-type {\n",
       "        vertical-align: middle;\n",
       "    }\n",
       "\n",
       "    .dataframe tbody tr th {\n",
       "        vertical-align: top;\n",
       "    }\n",
       "\n",
       "    .dataframe thead th {\n",
       "        text-align: right;\n",
       "    }\n",
       "</style>\n",
       "<table border=\"1\" class=\"dataframe\">\n",
       "  <thead>\n",
       "    <tr style=\"text-align: right;\">\n",
       "      <th>loan_status</th>\n",
       "      <th>0</th>\n",
       "      <th>1</th>\n",
       "    </tr>\n",
       "    <tr>\n",
       "      <th>loan_percent_income</th>\n",
       "      <th></th>\n",
       "      <th></th>\n",
       "    </tr>\n",
       "  </thead>\n",
       "  <tbody>\n",
       "    <tr>\n",
       "      <th>(-0.001, 0.08]</th>\n",
       "      <td>10.152607</td>\n",
       "      <td>13.425089</td>\n",
       "    </tr>\n",
       "    <tr>\n",
       "      <th>(0.08, 0.12]</th>\n",
       "      <td>10.240102</td>\n",
       "      <td>13.782163</td>\n",
       "    </tr>\n",
       "    <tr>\n",
       "      <th>(0.12, 0.18]</th>\n",
       "      <td>10.426418</td>\n",
       "      <td>13.760557</td>\n",
       "    </tr>\n",
       "    <tr>\n",
       "      <th>(0.18, 0.25]</th>\n",
       "      <td>10.762556</td>\n",
       "      <td>13.653932</td>\n",
       "    </tr>\n",
       "    <tr>\n",
       "      <th>(0.25, 0.83]</th>\n",
       "      <td>10.905944</td>\n",
       "      <td>12.375971</td>\n",
       "    </tr>\n",
       "  </tbody>\n",
       "</table>\n",
       "</div>"
      ],
      "text/plain": [
       "loan_status                  0          1\n",
       "loan_percent_income                      \n",
       "(-0.001, 0.08]       10.152607  13.425089\n",
       "(0.08, 0.12]         10.240102  13.782163\n",
       "(0.12, 0.18]         10.426418  13.760557\n",
       "(0.18, 0.25]         10.762556  13.653932\n",
       "(0.25, 0.83]         10.905944  12.375971"
      ]
     },
     "execution_count": 9,
     "metadata": {},
     "output_type": "execute_result"
    }
   ],
   "source": [
    "# Create a cross table of percent income, loan status, and average interest rate of the loan\n",
    "# Percent income has been grouped into four equal bins\n",
    "\n",
    "pd.crosstab(pd.qcut(cr_loan['loan_percent_income'], 5), cr_loan['loan_status'],values=cr_loan['loan_int_rate'], aggfunc = 'mean')"
   ]
  },
  {
   "cell_type": "code",
   "execution_count": 10,
   "id": "ee375d36",
   "metadata": {
    "execution": {
     "iopub.execute_input": "2023-10-20T11:04:19.487415Z",
     "iopub.status.busy": "2023-10-20T11:04:19.486819Z",
     "iopub.status.idle": "2023-10-20T11:04:19.675350Z",
     "shell.execute_reply": "2023-10-20T11:04:19.674338Z"
    },
    "papermill": {
     "duration": 0.197815,
     "end_time": "2023-10-20T11:04:19.677539",
     "exception": false,
     "start_time": "2023-10-20T11:04:19.479724",
     "status": "completed"
    },
    "tags": []
   },
   "outputs": [
    {
     "data": {
      "image/png": "[encoded data removed]",
      "text/plain": [
       "<Figure size 640x480 with 1 Axes>"
      ]
     },
     "metadata": {},
     "output_type": "display_data"
    }
   ],
   "source": [
    "# Create a box plot of percentage income by loan status\n",
    "cr_loan.boxplot(column = ['loan_int_rate'], by = 'loan_status')\n",
    "plt.title('Average Interest Rate by Loan Status')\n",
    "plt.show()"
   ]
  },
  {
   "cell_type": "code",
   "execution_count": null,
   "id": "e7fa5a8b",
   "metadata": {
    "papermill": {
     "duration": 0.005706,
     "end_time": "2023-10-20T11:04:19.689281",
     "exception": false,
     "start_time": "2023-10-20T11:04:19.683575",
     "status": "completed"
    },
    "tags": []
   },
   "outputs": [],
   "source": []
  },
  {
   "cell_type": "code",
   "execution_count": null,
   "id": "da04d20e",
   "metadata": {
    "papermill": {
     "duration": 0.005622,
     "end_time": "2023-10-20T11:04:19.700810",
     "exception": false,
     "start_time": "2023-10-20T11:04:19.695188",
     "status": "completed"
    },
    "tags": []
   },
   "outputs": [],
   "source": []
  },
  {
   "cell_type": "code",
   "execution_count": null,
   "id": "5c0ee6dd",
   "metadata": {
    "papermill": {
     "duration": 0.005578,
     "end_time": "2023-10-20T11:04:19.712552",
     "exception": false,
     "start_time": "2023-10-20T11:04:19.706974",
     "status": "completed"
    },
    "tags": []
   },
   "outputs": [],
   "source": []
  },
  {
   "cell_type": "code",
   "execution_count": null,
   "id": "c06055e1",
   "metadata": {
    "papermill": {
     "duration": 0.005623,
     "end_time": "2023-10-20T11:04:19.724001",
     "exception": false,
     "start_time": "2023-10-20T11:04:19.718378",
     "status": "completed"
    },
    "tags": []
   },
   "outputs": [],
   "source": []
  }
 ],
 "metadata": {
  "kernelspec": {
   "display_name": "Python 3",
   "language": "python",
   "name": "python3"
  },
  "language_info": {
   "codemirror_mode": {
    "name": "ipython",
    "version": 3
   },
   "file_extension": ".py",
   "mimetype": "text/x-python",
   "name": "python",
   "nbconvert_exporter": "python",
   "pygments_lexer": "ipython3",
   "version": "3.10.12"
  },
  "papermill": {
   "default_parameters": {},
   "duration": 5.578529,
   "end_time": "2023-10-20T11:04:20.351117",
   "environment_variables": {},
   "exception": null,
   "input_path": "__notebook__.ipynb",
   "output_path": "__notebook__.ipynb",
   "parameters": {},
   "start_time": "2023-10-20T11:04:14.772588",
   "version": "2.4.0"
  }
 },
 "nbformat": 4,
 "nbformat_minor": 5
}
